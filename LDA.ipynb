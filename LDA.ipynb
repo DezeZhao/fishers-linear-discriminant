{
  "nbformat": 4,
  "nbformat_minor": 0,
  "metadata": {
    "colab": {
      "name": "LDA.ipynb",
      "version": "0.3.2",
      "provenance": [],
      "collapsed_sections": [],
      "include_colab_link": true
    },
    "kernelspec": {
      "name": "python3",
      "display_name": "Python 3"
    }
  },
  "cells": [
    {
      "cell_type": "markdown",
      "metadata": {
        "id": "view-in-github",
        "colab_type": "text"
      },
      "source": [
        "<a href=\"https://colab.research.google.com/github/sthalles/fishers-linear-discriminant/blob/master/LDA.ipynb\" target=\"_parent\"><img src=\"https://colab.research.google.com/assets/colab-badge.svg\" alt=\"Open In Colab\"/></a>"
      ]
    },
    {
      "metadata": {
        "id": "_tM4-LUzNpa1",
        "colab_type": "code",
        "colab": {}
      },
      "cell_type": "code",
      "source": [
        "from sklearn.datasets import load_iris\n",
        "import numpy as np\n",
        "import pandas as pd\n",
        "import tensorflow as tf\n",
        "import matplotlib.pyplot as plt\n",
        "from collections import Counter\n",
        "from numpy.linalg import pinv\n",
        "import matplotlib.lines as mlines\n",
        "plt.rcParams[\"axes.grid\"] = False\n",
        "# plt.style.use('ggplot')"
      ],
      "execution_count": 0,
      "outputs": []
    },
    {
      "metadata": {
        "id": "o1zzouVRN5jA",
        "colab_type": "code",
        "outputId": "b36a4c2c-ccd9-406f-8538-169435ba1db0",
        "colab": {
          "base_uri": "https://localhost:8080/",
          "height": 51
        }
      },
      "cell_type": "code",
      "source": [
        "mnist = tf.keras.datasets.mnist\n",
        "\n",
        "(x_train, y_train),(x_test, y_test) = mnist.load_data()\n",
        "x_train, x_test = x_train / 255.0, x_test / 255.0"
      ],
      "execution_count": 0,
      "outputs": [
        {
          "output_type": "stream",
          "text": [
            "Downloading data from https://storage.googleapis.com/tensorflow/tf-keras-datasets/mnist.npz\n",
            "11493376/11490434 [==============================] - 0s 0us/step\n"
          ],
          "name": "stdout"
        }
      ]
    },
    {
      "metadata": {
        "id": "cndmBtjyN6SJ",
        "colab_type": "code",
        "outputId": "ceeab416-ee54-4314-f5a0-40284053cfd5",
        "colab": {
          "base_uri": "https://localhost:8080/",
          "height": 51
        }
      },
      "cell_type": "code",
      "source": [
        "print(x_train.shape)\n",
        "print(y_train.shape)"
      ],
      "execution_count": 0,
      "outputs": [
        {
          "output_type": "stream",
          "text": [
            "(60000, 28, 28)\n",
            "(60000,)\n"
          ],
          "name": "stdout"
        }
      ]
    },
    {
      "metadata": {
        "id": "sxM-83rhPdTj",
        "colab_type": "code",
        "colab": {}
      },
      "cell_type": "code",
      "source": [
        "two_class_data = []\n",
        "two_class_target = []\n",
        "for x, y in zip(x_train, y_train):\n",
        "  if y == 0 or y == 1:\n",
        "    two_class_data.append(x.flatten())\n",
        "    two_class_target.append(y.squeeze())"
      ],
      "execution_count": 0,
      "outputs": []
    },
    {
      "metadata": {
        "id": "XLRPFt4JPtfF",
        "colab_type": "code",
        "outputId": "7e5d1cc7-a835-46c5-d660-0f20e64ff1c9",
        "colab": {
          "base_uri": "https://localhost:8080/",
          "height": 51
        }
      },
      "cell_type": "code",
      "source": [
        "two_class_data = np.asarray(two_class_data)\n",
        "two_class_target = np.asarray(two_class_target)\n",
        "print(two_class_data.shape)\n",
        "print(two_class_target.shape)"
      ],
      "execution_count": 0,
      "outputs": [
        {
          "output_type": "stream",
          "text": [
            "(12665, 784)\n",
            "(12665,)\n"
          ],
          "name": "stdout"
        }
      ]
    },
    {
      "metadata": {
        "id": "VlICwGMCPyMc",
        "colab_type": "code",
        "outputId": "94944849-b1b2-49d0-fb44-baa4ae6559e3",
        "colab": {
          "base_uri": "https://localhost:8080/",
          "height": 34
        }
      },
      "cell_type": "code",
      "source": [
        "cnt = Counter(two_class_target)\n",
        "cnt"
      ],
      "execution_count": 0,
      "outputs": [
        {
          "output_type": "execute_result",
          "data": {
            "text/plain": [
              "Counter({0: 5923, 1: 6742})"
            ]
          },
          "metadata": {
            "tags": []
          },
          "execution_count": 6
        }
      ]
    },
    {
      "metadata": {
        "id": "oI_eRCTpQIGK",
        "colab_type": "code",
        "outputId": "1db5dec0-e590-4d25-f3b9-487410974417",
        "colab": {
          "base_uri": "https://localhost:8080/",
          "height": 51
        }
      },
      "cell_type": "code",
      "source": [
        "# Compute the number of points of class C1 as N1 and class C2 as N2\n",
        "N1 = cnt[0]\n",
        "N2 = cnt[1]\n",
        "print(\"# of points from class C1:\",N1)\n",
        "print(\"# of points from class C2:\",N2)"
      ],
      "execution_count": 0,
      "outputs": [
        {
          "output_type": "stream",
          "text": [
            "# of points from class C1: 5923\n",
            "# of points from class C2: 6742\n"
          ],
          "name": "stdout"
        }
      ]
    },
    {
      "metadata": {
        "id": "UlD_LAjhSKEU",
        "colab_type": "text"
      },
      "cell_type": "markdown",
      "source": [
        "The idea proposed by Fisher is to maximize a function that will give a large separation between the projected class means while also giving a small variance within each class, thereby minimizing the class overlap."
      ]
    },
    {
      "metadata": {
        "id": "hLTHrWp5Txlj",
        "colab_type": "code",
        "outputId": "8635b3dc-3328-4a01-8b8b-5d7054300f6b",
        "colab": {
          "base_uri": "https://localhost:8080/",
          "height": 34
        }
      },
      "cell_type": "code",
      "source": [
        "C1_input = []\n",
        "C1_target = []\n",
        "\n",
        "C2_input = []\n",
        "C2_target = []\n",
        "\n",
        "# separate inputs from class C1 and C2 in different numpy arrays\n",
        "for i in range(len(two_class_target)):\n",
        "  y = two_class_target[i]\n",
        "  x = two_class_data[i]\n",
        "  if y == 0:\n",
        "    C1_input.append(x.flatten())\n",
        "    C1_target.append(y.squeeze())\n",
        "  elif y == 1:\n",
        "    C2_input.append(x.flatten())\n",
        "    C2_target.append(y.squeeze())\n",
        "    \n",
        "C1_input = np.asarray(C1_input)\n",
        "C1_target = np.asarray(C1_target)\n",
        "\n",
        "C2_input = np.asarray(C2_input)\n",
        "C2_target = np.asarray(C2_target)\n",
        "\n",
        "print(C1_input.shape, C1_target.shape)"
      ],
      "execution_count": 0,
      "outputs": [
        {
          "output_type": "stream",
          "text": [
            "(5923, 784) (5923,)\n"
          ],
          "name": "stdout"
        }
      ]
    },
    {
      "metadata": {
        "id": "dJ7ODvHIBQsU",
        "colab_type": "code",
        "colab": {}
      },
      "cell_type": "code",
      "source": [
        "# compute the mean vector for each of the 2 classes\n",
        "# compute the mean accros the Bash size dimension\n",
        "m1 = np.mean(C1_input,axis=0)\n",
        "m2 = np.mean(C2_input,axis=0)"
      ],
      "execution_count": 0,
      "outputs": []
    },
    {
      "metadata": {
        "id": "QxwSt29SU-I9",
        "colab_type": "code",
        "colab": {}
      },
      "cell_type": "code",
      "source": [
        "# yC1 = model(tf.constant(C1_input))\n",
        "# print(yC1.shape)\n",
        "\n",
        "# yC2 = model(tf.constant(C2_input))\n",
        "# print(yC2.shape)"
      ],
      "execution_count": 0,
      "outputs": []
    },
    {
      "metadata": {
        "id": "iAWd48W7Rh5E",
        "colab_type": "code",
        "colab": {}
      },
      "cell_type": "code",
      "source": [
        "# # Compute the with-in class variance for class C1 and C2\n",
        "# S_C1 = np.sum((yC1 - m1)**2)\n",
        "# S_C2 = np.sum((yC2 - m2)**2)\n",
        "# total_within_class_variance = S_C1 + S_C2\n",
        "# print(\"S_C1:\",S_C1,\"\\nS_C2:\",S_C2,\"\\nTotal within-class variance:\",total_within_class_variance)"
      ],
      "execution_count": 0,
      "outputs": []
    },
    {
      "metadata": {
        "id": "Q1M0kN4QXHne",
        "colab_type": "code",
        "outputId": "b4e431c6-b35c-4cbc-8a2a-87eb6c735ce4",
        "colab": {
          "base_uri": "https://localhost:8080/",
          "height": 68
        }
      },
      "cell_type": "code",
      "source": [
        "# total within-class covariance matrix, given by (4.27)\n",
        "print(\"Input vector shape:\",C1_input.shape)\n",
        "print(\"m1.shape\",m1.shape)\n",
        "\n",
        "tmp = np.subtract(C1_input, m1)\n",
        "a = np.dot(tmp.T, tmp)\n",
        "\n",
        "tmp = np.subtract(C2_input, m2)\n",
        "b = np.dot(tmp.T, tmp)\n",
        "SW = np.add(a,b)\n",
        "\n",
        "print(\"Output:\",SW.shape)"
      ],
      "execution_count": 0,
      "outputs": [
        {
          "output_type": "stream",
          "text": [
            "Input vector shape: (5923, 784)\n",
            "m1.shape (784,)\n",
            "Output: (784, 784)\n"
          ],
          "name": "stdout"
        }
      ]
    },
    {
      "metadata": {
        "id": "WMyTTwIGmKKB",
        "colab_type": "code",
        "outputId": "90c0ecb0-a636-48d0-c916-3dc5a86b17f8",
        "colab": {
          "base_uri": "https://localhost:8080/",
          "height": 34
        }
      },
      "cell_type": "code",
      "source": [
        "inv_SW = pinv(SW)\n",
        "s = m2 - m1\n",
        "W = np.dot(inv_SW, np.expand_dims(s,1)) # \n",
        "print(W.shape)"
      ],
      "execution_count": 0,
      "outputs": [
        {
          "output_type": "stream",
          "text": [
            "(784, 1)\n"
          ],
          "name": "stdout"
        }
      ]
    },
    {
      "metadata": {
        "id": "hQYSIVT7mp_h",
        "colab_type": "code",
        "outputId": "99a76b63-b4d2-4cd8-a657-4e7a3bfa3988",
        "colab": {
          "base_uri": "https://localhost:8080/",
          "height": 51
        }
      },
      "cell_type": "code",
      "source": [
        "print(\"Input shape:\",two_class_data.shape)\n",
        "y = np.dot(two_class_data,W)\n",
        "print(y.shape)"
      ],
      "execution_count": 0,
      "outputs": [
        {
          "output_type": "stream",
          "text": [
            "Input shape: (12665, 784)\n",
            "(12665, 1)\n"
          ],
          "name": "stdout"
        }
      ]
    },
    {
      "metadata": {
        "id": "Ixy0UUUHm9zM",
        "colab_type": "code",
        "outputId": "c674d1b3-9126-4894-8756-b09747e73b56",
        "colab": {
          "base_uri": "https://localhost:8080/",
          "height": 34
        }
      },
      "cell_type": "code",
      "source": [
        "tot = 0\n",
        "for m in [m1,m2]:\n",
        "  tot += np.dot(np.squeeze(W), m)\n",
        "\n",
        "w0 = 0.5 * tot\n",
        "print(\"Optimal threshold:\",w0)"
      ],
      "execution_count": 0,
      "outputs": [
        {
          "output_type": "stream",
          "text": [
            "Optimal threshold: 0.002272411734855956\n"
          ],
          "name": "stdout"
        }
      ]
    },
    {
      "metadata": {
        "id": "8uZxKDoG8g57",
        "colab_type": "code",
        "outputId": "beac965a-15e9-4fc3-9b90-a36dec0d1f81",
        "colab": {
          "base_uri": "https://localhost:8080/",
          "height": 34
        }
      },
      "cell_type": "code",
      "source": [
        "predictions = [0 if pred < w0 else 1 for pred in y]\n",
        "print(\"Accuracy:\",np.sum(predictions == two_class_target) / len(two_class_target))"
      ],
      "execution_count": 0,
      "outputs": [
        {
          "output_type": "stream",
          "text": [
            "Accuracy: 0.9947887879984209\n"
          ],
          "name": "stdout"
        }
      ]
    },
    {
      "metadata": {
        "id": "hQuYNch798HO",
        "colab_type": "code",
        "outputId": "7dd60080-105c-4791-ab98-0e1a32c6295a",
        "colab": {
          "base_uri": "https://localhost:8080/",
          "height": 68
        }
      },
      "cell_type": "code",
      "source": [
        "from sklearn.discriminant_analysis import LinearDiscriminantAnalysis\n",
        "\n",
        "clf = LinearDiscriminantAnalysis()\n",
        "clf.fit(two_class_data, two_class_target)\n",
        "print(\"Accuracy:\",clf.score(two_class_data,two_class_target))"
      ],
      "execution_count": 0,
      "outputs": [
        {
          "output_type": "stream",
          "text": [
            "Accuracy: 0.9947887879984209\n"
          ],
          "name": "stdout"
        },
        {
          "output_type": "stream",
          "text": [
            "/usr/local/lib/python3.6/dist-packages/sklearn/discriminant_analysis.py:388: UserWarning: Variables are collinear.\n",
            "  warnings.warn(\"Variables are collinear.\")\n"
          ],
          "name": "stderr"
        }
      ]
    },
    {
      "metadata": {
        "id": "ZJX7PkTy4juw",
        "colab_type": "text"
      },
      "cell_type": "markdown",
      "source": [
        "## For multiclass classification"
      ]
    },
    {
      "metadata": {
        "id": "jDbB82h_-Ysu",
        "colab_type": "code",
        "colab": {}
      },
      "cell_type": "code",
      "source": [
        "three_class_data = {}\n",
        "for x, y in zip(x_train, y_train):\n",
        "  if y == 0 or y == 1 or y == 2:\n",
        "    if y not in three_class_data:\n",
        "      three_class_data[y] = [x.flatten()]\n",
        "    else:\n",
        "      three_class_data[y].append(x.flatten())\n",
        "      \n",
        "three_class_data[0] = np.asarray(three_class_data[0])\n",
        "three_class_data[1] = np.asarray(three_class_data[1])\n",
        "three_class_data[2] = np.asarray(three_class_data[2])"
      ],
      "execution_count": 0,
      "outputs": []
    },
    {
      "metadata": {
        "id": "hZz9FHEep199",
        "colab_type": "code",
        "colab": {}
      },
      "cell_type": "code",
      "source": [
        "class DataSet:\n",
        "  def __init__(self, data, targets, valid_classes=None):\n",
        "    if valid_classes is None:\n",
        "      self.valid_classes = np.unique(targets)\n",
        "    else:\n",
        "      self.valid_classes = valid_classes\n",
        "     \n",
        "    self.number_of_classes = len(self.valid_classes)\n",
        "    self.data = self.to_dict(data,targets)\n",
        "    \n",
        "  def to_dict(self,data,targets):\n",
        "    data_dict = {}\n",
        "    for x, y in zip(data, targets):\n",
        "      if y in self.valid_classes:\n",
        "        if y not in data_dict:\n",
        "          data_dict[y] = [x.flatten()]\n",
        "        else:\n",
        "          data_dict[y].append(x.flatten())\n",
        "     \n",
        "    for i in self.valid_classes:\n",
        "      data_dict[i] = np.asarray(data_dict[i])\n",
        "\n",
        "    return data_dict\n",
        "  \n",
        "  def get_data_by_class(self,class_id):\n",
        "    if class_id in self.valid_classes:\n",
        "      return self.data[class_id]\n",
        "    else:\n",
        "      raise(\"Class not found.\")\n",
        "  \n",
        "  def get_all_data(self):\n",
        "    data = []\n",
        "    labels = []\n",
        "    for label, class_i_data in self.data.items():\n",
        "      data.extend(class_i_data)\n",
        "      labels.extend(class_i_data.shape[0] * [label])\n",
        "    data = np.asarray(data)\n",
        "    labels = np.asarray(labels)\n",
        "    return data, labels"
      ],
      "execution_count": 0,
      "outputs": []
    },
    {
      "metadata": {
        "id": "JCDYHx9XsRqy",
        "colab_type": "code",
        "outputId": "c60653e7-1ee1-4bd4-b9c0-f023d00471d6",
        "colab": {
          "base_uri": "https://localhost:8080/",
          "height": 51
        }
      },
      "cell_type": "code",
      "source": [
        "dataset = DataSet(x_train, y_train, valid_classes=[0, 1, 2])\n",
        "\n",
        "inputs, targets = dataset.get_all_data()\n",
        "\n",
        "print(\"Unique labels:\",np.unique(targets))\n",
        "print(inputs.shape,targets.shape)\n",
        "\n",
        "#class_i = dataset.get_data_by_class(5)\n",
        "#print(class_i.shape)"
      ],
      "execution_count": 0,
      "outputs": [
        {
          "output_type": "stream",
          "text": [
            "Unique labels: [0 1 2]\n",
            "(18623, 784) (18623,)\n"
          ],
          "name": "stdout"
        }
      ]
    },
    {
      "metadata": {
        "id": "kOVGQQewS8hB",
        "colab_type": "code",
        "outputId": "9ee0f582-d163-41d5-e3fc-9f355a9102f4",
        "colab": {
          "base_uri": "https://localhost:8080/",
          "height": 34
        }
      },
      "cell_type": "code",
      "source": [
        "import numpy as np\n",
        "from sklearn.linear_model import LinearRegression\n",
        "\n",
        "reg = LinearRegression().fit(inputs, targets)\n",
        "acc = reg.score(inputs, targets)\n",
        "print(acc)"
      ],
      "execution_count": 0,
      "outputs": [
        {
          "output_type": "stream",
          "text": [
            "0.8488952170081971\n"
          ],
          "name": "stdout"
        }
      ]
    },
    {
      "metadata": {
        "id": "Nchg6OH4Woes",
        "colab_type": "code",
        "colab": {}
      },
      "cell_type": "code",
      "source": [
        "# import numpy as np\n",
        "# from sklearn.discriminant_analysis import LinearDiscriminantAnalysis\n",
        "\n",
        "# clf = LinearDiscriminantAnalysis(n_components=2, priors=list(priors.values()), shrinkage=None)\n",
        "# clf.fit(inputs, targets)\n",
        "\n",
        "# acc = clf.score(inputs, targets)\n",
        "# print(acc)"
      ],
      "execution_count": 0,
      "outputs": []
    },
    {
      "metadata": {
        "id": "bHU6Nf0O_JX2",
        "colab_type": "text"
      },
      "cell_type": "markdown",
      "source": [
        "We shall assume that the dimensionality D of the input space is greater than the number K of classes. \n",
        "- D > K = 784 > 3\n",
        "\n",
        "We aim to project the input dataset into D' = 2 dimentions.\n",
        "\n",
        "Shape of weights **W** = (D,D') = (784,2)\n",
        "\n",
        "- D: Number of input space-dimensions\n",
        "- D' Number of projected (reduced) dimensions D' > 1\n",
        "- K: Number of classes "
      ]
    },
    {
      "metadata": {
        "id": "yIACW2VC-rWT",
        "colab_type": "code",
        "outputId": "68e3c41e-c38d-4bc5-f730-2676a286e1d2",
        "colab": {
          "base_uri": "https://localhost:8080/",
          "height": 68
        }
      },
      "cell_type": "code",
      "source": [
        "number_of_classes = three_class_data.keys()\n",
        "print(\"Classes:\",number_of_classes)\n",
        "print(\"Data shape:\",three_class_data[0].shape)\n",
        "D_prime = 2\n",
        "print(\"Project to {} classes\".format(D_prime))"
      ],
      "execution_count": 0,
      "outputs": [
        {
          "output_type": "stream",
          "text": [
            "Classes: dict_keys([0, 1, 2])\n",
            "Data shape: (5923, 784)\n",
            "Project to 2 classes\n"
          ],
          "name": "stdout"
        }
      ]
    },
    {
      "metadata": {
        "id": "nPlT7_IzCIYj",
        "colab_type": "code",
        "outputId": "87161ff8-fb37-4214-d0c2-87d90b5eec8e",
        "colab": {
          "base_uri": "https://localhost:8080/",
          "height": 68
        }
      },
      "cell_type": "code",
      "source": [
        "# Compute the means\n",
        "mk = []\n",
        "for class_i, input_vectors in three_class_data.items():\n",
        "  mk.append(np.mean(input_vectors,axis=0))\n",
        "  mk[class_i] = np.asarray(mk[class_i])\n",
        "  print(mk[class_i].shape)"
      ],
      "execution_count": 0,
      "outputs": [
        {
          "output_type": "stream",
          "text": [
            "(784,)\n",
            "(784,)\n",
            "(784,)\n"
          ],
          "name": "stdout"
        }
      ]
    },
    {
      "metadata": {
        "id": "iNvxmtVFBjNE",
        "colab_type": "code",
        "outputId": "b43d8de0-350c-411a-94ee-d18be9f5d654",
        "colab": {
          "base_uri": "https://localhost:8080/",
          "height": 34
        }
      },
      "cell_type": "code",
      "source": [
        "Sks = []\n",
        "for (class_i, input_vectors), m in zip(three_class_data.items(),mk):\n",
        "  tmp = np.subtract(input_vectors, m)\n",
        "  Sks.append(np.dot(np.transpose(tmp), tmp))\n",
        "  \n",
        "Sks = np.asarray(Sks)\n",
        "print(Sks.shape)"
      ],
      "execution_count": 0,
      "outputs": [
        {
          "output_type": "stream",
          "text": [
            "(3, 784, 784)\n"
          ],
          "name": "stdout"
        }
      ]
    },
    {
      "metadata": {
        "id": "jstIrwHBFSHh",
        "colab_type": "code",
        "outputId": "32ef8906-e4c8-4df3-89bb-b0a6eb7ffb97",
        "colab": {
          "base_uri": "https://localhost:8080/",
          "height": 34
        }
      },
      "cell_type": "code",
      "source": [
        "# within-class covariance matrix Sw for K classes where K > 2\n",
        "Sw = np.sum(Sks,axis=0)\n",
        "print(Sw.shape)"
      ],
      "execution_count": 0,
      "outputs": [
        {
          "output_type": "stream",
          "text": [
            "(784, 784)\n"
          ],
          "name": "stdout"
        }
      ]
    },
    {
      "metadata": {
        "id": "iqrmIE4iBUyy",
        "colab_type": "code",
        "outputId": "0678f2e2-c85e-4789-8698-450356f18741",
        "colab": {
          "base_uri": "https://localhost:8080/",
          "height": 3383
        }
      },
      "cell_type": "code",
      "source": [
        "N = 0\n",
        "Nk = []\n",
        "sum_ = 0\n",
        "for class_i, data in three_class_data.items():\n",
        "  Nk.append(data.shape[0])\n",
        "  sum_ += np.sum(data,axis=0)\n",
        "\n",
        "N = sum(Nk)\n",
        "print(\"Total # of records:\",N)\n",
        "# m is the mean of the total data set\n",
        "m = sum_ / N\n",
        "print(\"Mean:\",m.shape)\n",
        "print(m)"
      ],
      "execution_count": 0,
      "outputs": [
        {
          "output_type": "stream",
          "text": [
            "Total # of records: 18623\n",
            "Mean: (784,)\n",
            "[0.00000000e+00 0.00000000e+00 0.00000000e+00 0.00000000e+00\n",
            " 0.00000000e+00 0.00000000e+00 0.00000000e+00 0.00000000e+00\n",
            " 0.00000000e+00 0.00000000e+00 0.00000000e+00 0.00000000e+00\n",
            " 2.10576633e-06 4.54845526e-05 4.54845526e-05 1.89518969e-06\n",
            " 0.00000000e+00 0.00000000e+00 0.00000000e+00 0.00000000e+00\n",
            " 0.00000000e+00 0.00000000e+00 0.00000000e+00 0.00000000e+00\n",
            " 0.00000000e+00 0.00000000e+00 0.00000000e+00 0.00000000e+00\n",
            " 0.00000000e+00 0.00000000e+00 0.00000000e+00 0.00000000e+00\n",
            " 0.00000000e+00 0.00000000e+00 0.00000000e+00 3.36922612e-06\n",
            " 5.87508805e-05 7.49652812e-05 1.28030593e-04 1.77516101e-04\n",
            " 1.36243081e-04 1.40033461e-04 2.95439015e-04 3.60296618e-04\n",
            " 4.88958941e-04 2.03838180e-04 1.51615175e-05 0.00000000e+00\n",
            " 0.00000000e+00 0.00000000e+00 0.00000000e+00 0.00000000e+00\n",
            " 0.00000000e+00 0.00000000e+00 0.00000000e+00 0.00000000e+00\n",
            " 0.00000000e+00 0.00000000e+00 0.00000000e+00 6.10672234e-06\n",
            " 2.10576633e-06 9.47594846e-06 1.14132535e-04 3.65139881e-04\n",
            " 7.73026818e-04 1.54436902e-03 2.30728816e-03 3.26499069e-03\n",
            " 4.15678273e-03 4.85231734e-03 5.52237219e-03 5.66409026e-03\n",
            " 4.33787863e-03 2.70254050e-03 1.37506541e-03 6.55103904e-04\n",
            " 2.02574720e-04 4.67480124e-05 2.52691959e-06 4.90643554e-05\n",
            " 7.32806681e-05 3.47451444e-05 0.00000000e+00 0.00000000e+00\n",
            " 0.00000000e+00 0.00000000e+00 1.11605615e-05 2.29528529e-05\n",
            " 4.40105162e-05 4.20732112e-04 1.38264617e-03 3.52652686e-03\n",
            " 7.90294102e-03 1.50640206e-02 2.34917185e-02 3.40481357e-02\n",
            " 4.42130909e-02 5.42043204e-02 5.92090952e-02 5.96805763e-02\n",
            " 5.31493315e-02 4.13075545e-02 2.80797622e-02 1.79240724e-02\n",
            " 9.53427819e-03 4.20037209e-03 1.45045184e-03 3.24288014e-04\n",
            " 1.14343111e-04 4.99066619e-05 0.00000000e+00 0.00000000e+00\n",
            " 0.00000000e+00 0.00000000e+00 4.37999396e-05 6.99114420e-05\n",
            " 3.10389956e-04 2.17062393e-03 6.01975419e-03 1.42412977e-02\n",
            " 2.88104631e-02 5.08218280e-02 7.93202165e-02 1.18613184e-01\n",
            " 1.69943134e-01 2.25963256e-01 2.69096932e-01 2.88626230e-01\n",
            " 2.78784299e-01 2.42986903e-01 1.89852523e-01 1.36590112e-01\n",
            " 8.22682894e-02 4.05273681e-02 1.53148173e-02 3.68193242e-03\n",
            " 6.81847136e-04 8.31777698e-05 0.00000000e+00 0.00000000e+00\n",
            " 0.00000000e+00 0.00000000e+00 4.48528227e-05 1.94783385e-04\n",
            " 1.10973885e-03 5.60407592e-03 1.57488158e-02 3.37156352e-02\n",
            " 6.17256966e-02 1.00513702e-01 1.51274252e-01 2.17782565e-01\n",
            " 2.99556631e-01 3.93295029e-01 4.70386082e-01 5.12134584e-01\n",
            " 5.07862826e-01 4.60501825e-01 3.75026243e-01 2.74609407e-01\n",
            " 1.75316418e-01 9.28659796e-02 3.78814727e-02 1.02127561e-02\n",
            " 1.70377553e-03 1.00023900e-04 1.11605615e-05 0.00000000e+00\n",
            " 0.00000000e+00 0.00000000e+00 2.10576633e-05 2.87647680e-04\n",
            " 2.40373226e-03 1.03041464e-02 2.69900281e-02 5.52426738e-02\n",
            " 9.42115642e-02 1.45690812e-01 2.09650306e-01 2.86583005e-01\n",
            " 3.72978807e-01 4.68190610e-01 5.48130764e-01 5.96099068e-01\n",
            " 5.99739096e-01 5.63242585e-01 4.87743071e-01 3.73457868e-01\n",
            " 2.54204952e-01 1.45489080e-01 6.57030680e-02 1.93159839e-02\n",
            " 2.56124358e-03 1.04867163e-04 3.22182248e-05 1.53720942e-05\n",
            " 0.00000000e+00 0.00000000e+00 9.64440977e-05 3.50188940e-04\n",
            " 3.64760843e-03 1.44661935e-02 3.63878527e-02 7.04778931e-02\n",
            " 1.16418134e-01 1.75177227e-01 2.41833154e-01 3.13203471e-01\n",
            " 3.86225972e-01 4.64622389e-01 5.35665048e-01 5.79464567e-01\n",
            " 5.89172571e-01 5.70125072e-01 5.14074205e-01 4.20277898e-01\n",
            " 3.04142148e-01 1.91618208e-01 9.89668058e-02 3.34667336e-02\n",
            " 5.12985734e-03 2.68274630e-04 2.02153567e-05 3.24288014e-05\n",
            " 1.11605615e-05 1.43192110e-05 1.14974841e-04 4.64110898e-04\n",
            " 4.13804141e-03 1.65151041e-02 4.21208015e-02 8.00519703e-02\n",
            " 1.31475626e-01 1.91496916e-01 2.54299922e-01 3.08511402e-01\n",
            " 3.59699002e-01 4.19967297e-01 4.82781254e-01 5.26014321e-01\n",
            " 5.32517770e-01 5.15258067e-01 4.78789142e-01 4.14749419e-01\n",
            " 3.26341768e-01 2.25367746e-01 1.29156546e-01 5.07717107e-02\n",
            " 9.28411315e-03 1.78990138e-04 0.00000000e+00 0.00000000e+00\n",
            " 0.00000000e+00 1.70567072e-05 9.45489080e-05 5.60554996e-04\n",
            " 4.12498565e-03 1.70192246e-02 4.54354883e-02 8.86095941e-02\n",
            " 1.42236092e-01 2.02275281e-01 2.54999668e-01 2.87433734e-01\n",
            " 3.12746730e-01 3.60400433e-01 4.23012657e-01 4.70161396e-01\n",
            " 4.63327132e-01 4.36164431e-01 4.10404591e-01 3.77372067e-01\n",
            " 3.22704478e-01 2.46272741e-01 1.56535930e-01 6.96804394e-02\n",
            " 1.49029294e-02 2.19631428e-04 2.86384220e-05 0.00000000e+00\n",
            " 0.00000000e+00 2.80066921e-05 7.07537485e-05 4.90854130e-04\n",
            " 3.38501937e-03 1.83226939e-02 5.13219475e-02 9.85597611e-02\n",
            " 1.55970532e-01 2.11152560e-01 2.46258843e-01 2.55254466e-01\n",
            " 2.57761591e-01 3.01252826e-01 3.85578238e-01 4.35740751e-01\n",
            " 4.06481338e-01 3.62180858e-01 3.37092758e-01 3.26310181e-01\n",
            " 3.03932624e-01 2.53158807e-01 1.76322132e-01 8.82227648e-02\n",
            " 2.18702785e-02 5.66240565e-04 1.12447922e-04 8.00191204e-06\n",
            " 0.00000000e+00 2.00047801e-05 8.00191204e-06 3.22813978e-04\n",
            " 3.74152561e-03 2.24973757e-02 6.16086160e-02 1.16429294e-01\n",
            " 1.73874600e-01 2.18351754e-01 2.32070611e-01 2.15097292e-01\n",
            " 2.01894347e-01 2.65543030e-01 3.82216803e-01 4.27502151e-01\n",
            " 3.69664541e-01 3.04026331e-01 2.78080762e-01 2.83342651e-01\n",
            " 2.80560302e-01 2.49114683e-01 1.85262584e-01 1.03527685e-01\n",
            " 2.94815709e-02 1.09205042e-03 1.21081564e-04 1.91624736e-05\n",
            " 0.00000000e+00 3.36922612e-06 1.55826708e-05 1.99416071e-04\n",
            " 4.70007044e-03 3.08722189e-02 8.07357126e-02 1.42028464e-01\n",
            " 1.95256130e-01 2.23242817e-01 2.14399020e-01 1.76742653e-01\n",
            " 1.64411496e-01 2.70319540e-01 4.12399805e-01 4.34607006e-01\n",
            " 3.42010143e-01 2.58393743e-01 2.39929752e-01 2.51470193e-01\n",
            " 2.56410532e-01 2.37397357e-01 1.86217970e-01 1.12697666e-01\n",
            " 3.66338062e-02 1.82085614e-03 2.63010214e-04 4.10624433e-05\n",
            " 6.73845224e-06 1.32663278e-05 4.82220488e-05 2.73749622e-04\n",
            " 7.13201997e-03 4.59078117e-02 1.07400400e-01 1.72940482e-01\n",
            " 2.17575779e-01 2.28081868e-01 1.99825643e-01 1.56519716e-01\n",
            " 1.67547825e-01 3.27661873e-01 4.58161266e-01 4.45756828e-01\n",
            " 3.11611301e-01 2.25892713e-01 2.17486073e-01 2.28688960e-01\n",
            " 2.37495696e-01 2.26592038e-01 1.81909783e-01 1.15441058e-01\n",
            " 4.17139674e-02 3.02703909e-03 6.01828016e-04 1.17922914e-04\n",
            " 0.00000000e+00 0.00000000e+00 2.31634296e-06 3.17760138e-04\n",
            " 1.18156654e-02 6.70768699e-02 1.40116638e-01 2.09812029e-01\n",
            " 2.46873516e-01 2.42081424e-01 2.04300396e-01 1.70288690e-01\n",
            " 2.25634968e-01 4.13985026e-01 5.06318668e-01 4.54742133e-01\n",
            " 2.83220306e-01 2.11471583e-01 2.10530727e-01 2.21179377e-01\n",
            " 2.30782934e-01 2.19738190e-01 1.75583008e-01 1.12466874e-01\n",
            " 4.38237347e-02 4.46991018e-03 1.00592457e-03 2.80066921e-05\n",
            " 0.00000000e+00 0.00000000e+00 4.21153265e-05 8.78315134e-04\n",
            " 2.05280630e-02 9.49789055e-02 1.80322245e-01 2.52221741e-01\n",
            " 2.82612372e-01 2.66696147e-01 2.27864132e-01 2.19125201e-01\n",
            " 3.18611921e-01 4.90323267e-01 5.45273028e-01 4.41956131e-01\n",
            " 2.66277100e-01 2.15415473e-01 2.17332141e-01 2.30104457e-01\n",
            " 2.36155797e-01 2.17131883e-01 1.70069480e-01 1.06638323e-01\n",
            " 4.29399446e-02 6.56472652e-03 1.57216514e-03 1.35611351e-04\n",
            " 0.00000000e+00 8.21248867e-06 1.43613263e-04 2.09081538e-03\n",
            " 3.30756928e-02 1.27261777e-01 2.24761285e-01 2.96027577e-01\n",
            " 3.18112223e-01 2.93132570e-01 2.58536513e-01 2.79558589e-01\n",
            " 3.92987588e-01 5.27400337e-01 5.44526534e-01 4.10089990e-01\n",
            " 2.69775620e-01 2.36258559e-01 2.46012047e-01 2.57898887e-01\n",
            " 2.53454036e-01 2.20570810e-01 1.64662504e-01 1.00337449e-01\n",
            " 4.21298563e-02 1.01653764e-02 2.13672109e-03 1.53089212e-04\n",
            " 0.00000000e+00 2.67432323e-05 2.16472778e-04 4.94454991e-03\n",
            " 4.95943768e-02 1.57514901e-01 2.61868678e-01 3.31502580e-01\n",
            " 3.43841950e-01 3.12246189e-01 2.87226527e-01 3.27069942e-01\n",
            " 4.27776321e-01 5.25074518e-01 5.08854010e-01 3.86574687e-01\n",
            " 2.91987875e-01 2.77903668e-01 2.91960500e-01 2.95607898e-01\n",
            " 2.73995155e-01 2.22681420e-01 1.58901548e-01 9.34488557e-02\n",
            " 4.31359914e-02 1.39294337e-02 2.43426587e-03 1.09921002e-04\n",
            " 6.31729898e-07 5.05383918e-06 2.17104508e-04 8.38832016e-03\n",
            " 6.30112669e-02 1.75878657e-01 2.83586499e-01 3.55135596e-01\n",
            " 3.67332826e-01 3.44757747e-01 3.37301018e-01 3.76772766e-01\n",
            " 4.52421579e-01 5.15230271e-01 4.85061378e-01 3.99055564e-01\n",
            " 3.40495887e-01 3.33398191e-01 3.40446612e-01 3.26377777e-01\n",
            " 2.82660804e-01 2.19135730e-01 1.51947886e-01 9.00370931e-02\n",
            " 4.36335840e-02 1.43202639e-02 1.80990616e-03 1.53089212e-04\n",
            " 3.15864949e-06 2.82172688e-05 3.73984099e-04 1.10721193e-02\n",
            " 6.77755632e-02 1.75665343e-01 2.88000185e-01 3.72100491e-01\n",
            " 4.08442017e-01 4.15415894e-01 4.21694447e-01 4.51654448e-01\n",
            " 4.96539910e-01 5.24475848e-01 4.93762825e-01 4.34328203e-01\n",
            " 3.90033619e-01 3.74040113e-01 3.62289726e-01 3.25995369e-01\n",
            " 2.68043417e-01 2.01941306e-01 1.35105757e-01 7.89196998e-02\n",
            " 3.79010564e-02 1.25705827e-02 1.77263409e-03 8.63364193e-05\n",
            " 0.00000000e+00 3.03230351e-05 5.98037636e-04 1.14296785e-02\n",
            " 6.10246870e-02 1.53370963e-01 2.68724211e-01 3.71596371e-01\n",
            " 4.49047088e-01 4.97607955e-01 5.21903444e-01 5.40034514e-01\n",
            " 5.50843833e-01 5.48666260e-01 5.15094028e-01 4.62304361e-01\n",
            " 4.11208784e-01 3.72157768e-01 3.35449418e-01 2.84112730e-01\n",
            " 2.23508354e-01 1.61008157e-01 1.03253725e-01 5.95818159e-02\n",
            " 2.95177900e-02 8.69197166e-03 1.30536455e-03 1.07394083e-05\n",
            " 6.73845224e-06 4.10624433e-05 6.51945254e-04 8.81494841e-03\n",
            " 4.31846346e-02 1.14120953e-01 2.16060469e-01 3.29487783e-01\n",
            " 4.37536338e-01 5.23273456e-01 5.69405742e-01 5.82951295e-01\n",
            " 5.73257399e-01 5.51039459e-01 5.11680159e-01 4.50944594e-01\n",
            " 3.79473622e-01 3.12922351e-01 2.57488474e-01 2.05010882e-01\n",
            " 1.52059703e-01 1.03924201e-01 6.50528074e-02 3.83874884e-02\n",
            " 1.86109734e-02 5.02814883e-03 6.53419291e-04 8.21248867e-06\n",
            " 6.52787561e-06 2.10576633e-06 3.56716815e-04 4.34166901e-03\n",
            " 2.09441624e-02 6.41346932e-02 1.36377429e-01 2.32084087e-01\n",
            " 3.40738682e-01 4.35937850e-01 4.99457449e-01 5.19957295e-01\n",
            " 5.10878705e-01 4.84546729e-01 4.41287760e-01 3.67431376e-01\n",
            " 2.82583312e-01 2.07025679e-01 1.51804484e-01 1.10759939e-01\n",
            " 7.79400973e-02 5.29412818e-02 3.38685138e-02 1.96078431e-02\n",
            " 8.47570946e-03 1.89308393e-03 1.66144963e-04 1.51615175e-05\n",
            " 0.00000000e+00 0.00000000e+00 2.44268894e-05 8.85895893e-04\n",
            " 5.84750251e-03 2.12823485e-02 5.22185828e-02 1.05131647e-01\n",
            " 1.75821802e-01 2.49662393e-01 3.06804047e-01 3.35415936e-01\n",
            " 3.35738750e-01 3.15095712e-01 2.78067707e-01 2.15870529e-01\n",
            " 1.46785811e-01 8.97921925e-02 5.46258948e-02 3.59104755e-02\n",
            " 2.52420315e-02 1.81786595e-02 1.18655721e-02 6.32761723e-03\n",
            " 2.19589312e-03 4.42210928e-04 7.87556606e-05 0.00000000e+00\n",
            " 0.00000000e+00 0.00000000e+00 0.00000000e+00 1.68461306e-05\n",
            " 6.22675102e-04 2.69790782e-03 7.38323789e-03 1.64157120e-02\n",
            " 3.05003406e-02 4.94678202e-02 6.70518113e-02 7.74999921e-02\n",
            " 8.08885913e-02 7.95074191e-02 7.06509871e-02 5.15476856e-02\n",
            " 3.09933005e-02 1.66614549e-02 8.75303888e-03 5.12606697e-03\n",
            " 3.48377981e-03 2.77729521e-03 2.07228464e-03 1.01076784e-03\n",
            " 4.55687833e-04 1.89518969e-04 2.44268894e-05 0.00000000e+00\n",
            " 0.00000000e+00 0.00000000e+00 0.00000000e+00 0.00000000e+00\n",
            " 0.00000000e+00 1.72672839e-05 1.14343111e-04 2.57324645e-04\n",
            " 6.44785649e-04 9.51595802e-04 1.11584558e-03 1.37780291e-03\n",
            " 1.63554870e-03 2.20600080e-03 2.19526139e-03 1.24113867e-03\n",
            " 8.95161265e-04 6.27728942e-04 4.16099426e-04 2.89542870e-04\n",
            " 2.54797725e-04 1.74778605e-04 7.15960551e-05 1.03182550e-05\n",
            " 4.00095602e-06 1.83201670e-05 2.18999698e-05 0.00000000e+00\n",
            " 0.00000000e+00 0.00000000e+00 0.00000000e+00 0.00000000e+00\n",
            " 0.00000000e+00 0.00000000e+00 0.00000000e+00 0.00000000e+00\n",
            " 0.00000000e+00 0.00000000e+00 1.55826708e-05 8.84421857e-06\n",
            " 0.00000000e+00 0.00000000e+00 1.34769045e-05 4.02201368e-05\n",
            " 1.34769045e-05 0.00000000e+00 0.00000000e+00 0.00000000e+00\n",
            " 0.00000000e+00 0.00000000e+00 0.00000000e+00 0.00000000e+00\n",
            " 0.00000000e+00 0.00000000e+00 0.00000000e+00 0.00000000e+00\n",
            " 0.00000000e+00 0.00000000e+00 0.00000000e+00 0.00000000e+00\n",
            " 0.00000000e+00 0.00000000e+00 0.00000000e+00 0.00000000e+00\n",
            " 0.00000000e+00 0.00000000e+00 0.00000000e+00 0.00000000e+00\n",
            " 0.00000000e+00 0.00000000e+00 0.00000000e+00 0.00000000e+00\n",
            " 0.00000000e+00 0.00000000e+00 0.00000000e+00 0.00000000e+00\n",
            " 0.00000000e+00 0.00000000e+00 0.00000000e+00 0.00000000e+00\n",
            " 0.00000000e+00 0.00000000e+00 0.00000000e+00 0.00000000e+00]\n"
          ],
          "name": "stdout"
        }
      ]
    },
    {
      "metadata": {
        "id": "RB57P30tKpjW",
        "colab_type": "code",
        "outputId": "148c6ad4-18e2-4899-bdf3-971f90a1e1a4",
        "colab": {
          "base_uri": "https://localhost:8080/",
          "height": 34
        }
      },
      "cell_type": "code",
      "source": [
        "SB = []\n",
        "for class_i in three_class_data.keys():\n",
        "  tmp = mk[class_i] - m\n",
        "  SB.append(np.multiply(Nk[class_i], np.outer(tmp, tmp.T)))\n",
        "SB = np.sum(SB,axis=0) # sum of K (# of classes) matrices\n",
        "print(SB.shape)"
      ],
      "execution_count": 0,
      "outputs": [
        {
          "output_type": "stream",
          "text": [
            "(784, 784)\n"
          ],
          "name": "stdout"
        }
      ]
    },
    {
      "metadata": {
        "id": "hZLjPrz4Hnzn",
        "colab_type": "code",
        "outputId": "9daf14f4-2457-490d-de45-e5a6aabf8812",
        "colab": {
          "base_uri": "https://localhost:8080/",
          "height": 68
        }
      },
      "cell_type": "code",
      "source": [
        "from numpy.linalg import eig\n",
        "matrix = np.dot(pinv(Sw),SB)\n",
        "print(\"Out:\",matrix.shape)\n",
        "\n",
        "# find eigen values and eigen-vectors pairs for np.dot(pinv(SW),SB)\n",
        "eigen_values, eigen_vectors = eig(matrix)\n",
        "print(\"eigen_values:\",eigen_values.shape)\n",
        "print(\"eigen_vectors:\",eigen_vectors.shape)"
      ],
      "execution_count": 0,
      "outputs": [
        {
          "output_type": "stream",
          "text": [
            "Out: (784, 784)\n",
            "eigen_values: (784,)\n",
            "eigen_vectors: (784, 784)\n"
          ],
          "name": "stdout"
        }
      ]
    },
    {
      "metadata": {
        "id": "jtqsRCZVVIa4",
        "colab_type": "code",
        "outputId": "8a9b1103-c77d-4bc6-cf8d-fde63f7ac37f",
        "colab": {
          "base_uri": "https://localhost:8080/",
          "height": 34
        }
      },
      "cell_type": "code",
      "source": [
        "eiglist = [(eigen_values[i], eigen_vectors[:, i]) for i in range(len(eigen_values))]\n",
        "\n",
        "# sort the eigvals in decreasing order\n",
        "eiglist = sorted(eiglist, key = lambda x : x[0], reverse = True)\n",
        "\n",
        "# take the first num_dims eigvectors\n",
        "W = np.array([eiglist[i][1] for i in range(D_prime)])\n",
        "W = np.asarray(W).T\n",
        "print(\"W.shape:\",W.shape)"
      ],
      "execution_count": 0,
      "outputs": [
        {
          "output_type": "stream",
          "text": [
            "W.shape: (784, 2)\n"
          ],
          "name": "stdout"
        }
      ]
    },
    {
      "metadata": {
        "id": "8EfCTQ82PjPq",
        "colab_type": "code",
        "colab": {}
      },
      "cell_type": "code",
      "source": [
        "def inference(x,W):\n",
        "  y = np.dot(x,W)\n",
        "  return y"
      ],
      "execution_count": 0,
      "outputs": []
    },
    {
      "metadata": {
        "id": "GCRk6Xw2P6dw",
        "colab_type": "code",
        "outputId": "18874871-98bf-4f32-ef61-857505e84fb3",
        "colab": {
          "base_uri": "https://localhost:8080/",
          "height": 34
        }
      },
      "cell_type": "code",
      "source": [
        "yk = []\n",
        "for class_i, data in three_class_data.items():\n",
        "  yk.extend(inference(data,W))\n",
        "y = np.asarray(yk)\n",
        "print(y.shape)"
      ],
      "execution_count": 0,
      "outputs": [
        {
          "output_type": "stream",
          "text": [
            "(18623, 2)\n"
          ],
          "name": "stdout"
        }
      ]
    },
    {
      "metadata": {
        "id": "0efSH9zg-1Id",
        "colab_type": "code",
        "colab": {}
      },
      "cell_type": "code",
      "source": [
        "# model a multi-variate Gaussian distribution for each class’ likelihood distribution P(x|Ck)\n",
        "def gaussian(data,W, N):\n",
        "  means = {}\n",
        "  covariance = {}\n",
        "  priors = {} # p(Ck)\n",
        "  for id_, (class_id, values) in enumerate(data.items()):\n",
        "    proj = np.dot(values,W)\n",
        "#     print(\"projection:\",proj.shape)\n",
        "    means[id_] = np.mean(proj,axis=0)\n",
        "#     print(\"means:\",means[id_].shape)\n",
        "    covariance[id_] = np.cov(proj,rowvar=False)\n",
        "#     print(\"covariance:\",covariance[id_].shape)\n",
        "    priors[id_] = values.shape[0] / N\n",
        "  return means, covariance, priors\n",
        "\n",
        "def gaussian_distribution(x,u,cov,D):\n",
        "#   print(\"mean:\",u.shape)\n",
        "#   print(\"cov:\",cov.shape)\n",
        "#   print(\"x:\",x.shape)\n",
        "  \n",
        "  scalar = (1/((2*np.pi)**(D/2))) * (1/np.sqrt(np.linalg.det(cov)))\n",
        "  x_sub_u = np.subtract(x, u)\n",
        "  inv_cov = pinv(cov)\n",
        "#   print(\"inv_cov:\",inv_cov.shape)\n",
        "#   print(\"x_sub_u:\",x_sub_u.shape)\n",
        "#   print(\"first dot:\",np.dot(x_sub_u, inv_cov).shape)\n",
        "#   print(\"second dot:\",np.dot(np.dot(x_sub_u, inv_cov),x_sub_u.T).shape)\n",
        "  return scalar * -np.dot(np.dot(x_sub_u, inv_cov),x_sub_u.T)/2"
      ],
      "execution_count": 0,
      "outputs": []
    },
    {
      "metadata": {
        "id": "oiXkKo0YxW64",
        "colab_type": "code",
        "outputId": "376d5a40-6509-433e-e81b-47dfa35a9764",
        "colab": {
          "base_uri": "https://localhost:8080/",
          "height": 119
        }
      },
      "cell_type": "code",
      "source": [
        "means, covariance, priors =gaussian(three_class_data,W,N)\n",
        "print(means)\n",
        "print(covariance)\n",
        "print(priors)"
      ],
      "execution_count": 0,
      "outputs": [
        {
          "output_type": "stream",
          "text": [
            "{0: array([0.02201738+0.j, 0.00370639+0.j]), 1: array([-0.02288151+0.j,  0.0068463 +0.j]), 2: array([-0.00635274+0.j, -0.01917015+0.j])}\n",
            "{0: array([[4.00872521e-05+0.j, 9.09514109e-06+0.j],\n",
            "       [9.09514109e-06+0.j, 2.35254296e-05+0.j]]), 1: array([[ 1.43304701e-05+0.j, -6.37110540e-06+0.j],\n",
            "       [-6.37110540e-06+0.j,  1.32137026e-05+0.j]]), 2: array([[ 4.01347592e-05+0.j, -1.83209738e-06+0.j],\n",
            "       [-1.83209738e-06+0.j,  6.01524637e-05+0.j]])}\n",
            "{0: 0.3180475755785856, 1: 0.3620254523975729, 2: 0.31992697202384146}\n"
          ],
          "name": "stdout"
        }
      ]
    },
    {
      "metadata": {
        "id": "zBN2d0-CWt0M",
        "colab_type": "code",
        "outputId": "a6cbed62-669f-4c18-d764-0a7f521c5739",
        "colab": {
          "base_uri": "https://localhost:8080/",
          "height": 51
        }
      },
      "cell_type": "code",
      "source": [
        "data = []\n",
        "labels = []\n",
        "for label, values in three_class_data.items():\n",
        "  data.extend(values)\n",
        "  labels.extend(values.shape[0] * [label])\n",
        "data = np.asarray(data)\n",
        "labels = np.asarray(labels)\n",
        "print(data.shape)\n",
        "print(labels.shape, np.unique(labels))"
      ],
      "execution_count": 0,
      "outputs": [
        {
          "output_type": "stream",
          "text": [
            "(18623, 784)\n",
            "(18623,) [0 1 2]\n"
          ],
          "name": "stdout"
        }
      ]
    },
    {
      "metadata": {
        "id": "RICIsoO2kioc",
        "colab_type": "code",
        "colab": {}
      },
      "cell_type": "code",
      "source": [
        "# proj = np.dot(data,W)\n",
        "# gaussian_likelihoods = None\n",
        "\n",
        "# row = []\n",
        "# for c in range(3): # number of classes\n",
        "#   res = priors[c] * gaussian_distribution(proj, means[c], covariance[c], D=proj.shape[1]) # Compute the posterios P(Ck|x) prob of a class k given a point x\n",
        "#   res = np.max(res,axis=0)\n",
        "#   if gaussian_likelihoods is None:\n",
        "#     print(\"Aqui:\",res.shape)\n",
        "#     gaussian_likelihoods = res\n",
        "#   else:\n",
        "#     gaussian_likelihoods = np.column_stack((gaussian_likelihoods,res))\n",
        "\n",
        "  \n",
        "# gaussian_likelihoods = np.asarray(gaussian_likelihoods)\n",
        "# print(\"gaussian_likelihoods:\",gaussian_likelihoods.shape)"
      ],
      "execution_count": 0,
      "outputs": []
    },
    {
      "metadata": {
        "id": "U0eE7i8VKv-3",
        "colab_type": "code",
        "outputId": "18aa4c45-cb22-4e16-df44-e9c82f672079",
        "colab": {
          "base_uri": "https://localhost:8080/",
          "height": 34
        }
      },
      "cell_type": "code",
      "source": [
        "proj = np.dot(data,W)\n",
        "gaussian_likelihoods = []\n",
        "for x in proj:\n",
        "  row = []\n",
        "  for c in range(3): # number of classes\n",
        "    res = priors[c] * gaussian_distribution(x, means[c], covariance[c], D=len(x)) # Compute the posterios P(Ck|x) prob of a class k given a point x\n",
        "    row.append(res)\n",
        "    \n",
        "  gaussian_likelihoods.append(row)\n",
        "  \n",
        "gaussian_likelihoods = np.asarray(gaussian_likelihoods)\n",
        "print(\"gaussian_likelihoods:\",gaussian_likelihoods.shape)"
      ],
      "execution_count": 0,
      "outputs": [
        {
          "output_type": "stream",
          "text": [
            "gaussian_likelihoods: (18623, 3)\n"
          ],
          "name": "stdout"
        }
      ]
    },
    {
      "metadata": {
        "id": "WLWXoT8fSTSM",
        "colab_type": "code",
        "outputId": "206b609b-84cd-4691-b40b-8767e3dec76a",
        "colab": {
          "base_uri": "https://localhost:8080/",
          "height": 51
        }
      },
      "cell_type": "code",
      "source": [
        "predictions = np.argmax(gaussian_likelihoods,axis=1)\n",
        "print(predictions[0:10], np.unique(predictions))\n",
        "print(\"Accuracy:\",np.sum(predictions == labels)/N)"
      ],
      "execution_count": 0,
      "outputs": [
        {
          "output_type": "stream",
          "text": [
            "[0 0 0 0 0 0 0 0 0 0] [0 1 2]\n",
            "Accuracy: 0.9486656285238684\n"
          ],
          "name": "stdout"
        }
      ]
    },
    {
      "metadata": {
        "id": "co3fndmsSfJa",
        "colab_type": "code",
        "outputId": "4c197f16-db35-4f52-9fdd-1392159cbe69",
        "colab": {
          "base_uri": "https://localhost:8080/",
          "height": 381
        }
      },
      "cell_type": "code",
      "source": [
        "colors=['red','green','blue']\n",
        "for point,pred in zip(proj,predictions):\n",
        "  plt.scatter(point[0],point[1],color=colors[pred])\n",
        "plt.show()"
      ],
      "execution_count": 0,
      "outputs": [
        {
          "output_type": "stream",
          "text": [
            "/usr/local/lib/python3.6/dist-packages/numpy/core/numeric.py:544: ComplexWarning: Casting complex values to real discards the imaginary part\n",
            "  return array(a, dtype, copy=False, order=order, subok=True)\n"
          ],
          "name": "stderr"
        },
        {
          "output_type": "display_data",
          "data": {
            "image/png": "[encoded data removed]",
            "text/plain": [
              "<matplotlib.figure.Figure at 0x7f3b9a9bfc50>"
            ]
          },
          "metadata": {
            "tags": []
          }
        }
      ]
    },
    {
      "metadata": {
        "id": "MYVeLUhD1EWu",
        "colab_type": "code",
        "outputId": "bba503a1-7d97-4081-c03e-62607da6dc4d",
        "colab": {
          "base_uri": "https://localhost:8080/",
          "height": 381
        }
      },
      "cell_type": "code",
      "source": [
        "colors=['red','green','blue']\n",
        "for point,pred in zip(proj,labels):\n",
        "  plt.scatter(point[0],point[1],color=colors[pred])\n",
        "plt.show()"
      ],
      "execution_count": 0,
      "outputs": [
        {
          "output_type": "stream",
          "text": [
            "/usr/local/lib/python3.6/dist-packages/numpy/core/numeric.py:544: ComplexWarning: Casting complex values to real discards the imaginary part\n",
            "  return array(a, dtype, copy=False, order=order, subok=True)\n"
          ],
          "name": "stderr"
        },
        {
          "output_type": "display_data",
          "data": {
            "image/png": "[encoded data removed]",
            "text/plain": [
              "<matplotlib.figure.Figure at 0x7f3b97fc28d0>"
            ]
          },
          "metadata": {
            "tags": []
          }
        }
      ]
    },
    {
      "metadata": {
        "id": "f9LO2ntBoP1x",
        "colab_type": "code",
        "outputId": "747f6bf2-76bd-4d1e-a8fc-7030795dd8ce",
        "colab": {
          "base_uri": "https://localhost:8080/",
          "height": 68
        }
      },
      "cell_type": "code",
      "source": [
        "a = np.array([[2,4],[1,2],[3,6]])\n",
        "a"
      ],
      "execution_count": 0,
      "outputs": [
        {
          "output_type": "execute_result",
          "data": {
            "text/plain": [
              "array([[2, 4],\n",
              "       [1, 2],\n",
              "       [3, 6]])"
            ]
          },
          "metadata": {
            "tags": []
          },
          "execution_count": 41
        }
      ]
    },
    {
      "metadata": {
        "id": "nanD03HbRVaA",
        "colab_type": "code",
        "outputId": "20fb21c4-4f83-4d07-d58a-bd12ab2cbda6",
        "colab": {
          "base_uri": "https://localhost:8080/",
          "height": 34
        }
      },
      "cell_type": "code",
      "source": [
        "new_means = []\n",
        "for _,arr in means.items():\n",
        "  #print(arr)\n",
        "  new_means.append(arr)\n",
        " \n",
        "new_means = np.asarray(new_means)\n",
        "print(new_means.shape)"
      ],
      "execution_count": 0,
      "outputs": [
        {
          "output_type": "stream",
          "text": [
            "(3, 2)\n"
          ],
          "name": "stdout"
        }
      ]
    },
    {
      "metadata": {
        "id": "bQrcBJx6SawL",
        "colab_type": "code",
        "outputId": "877ea7d8-0ad9-44cc-ce92-f935b33aefe6",
        "colab": {
          "base_uri": "https://localhost:8080/",
          "height": 68
        }
      },
      "cell_type": "code",
      "source": [
        "for point in a:\n",
        "  print(np.subtract(point,new_means).shape)"
      ],
      "execution_count": 0,
      "outputs": [
        {
          "output_type": "stream",
          "text": [
            "(3, 2)\n",
            "(3, 2)\n",
            "(3, 2)\n"
          ],
          "name": "stdout"
        }
      ]
    },
    {
      "metadata": {
        "id": "C-BFI66Ztqt0",
        "colab_type": "text"
      },
      "cell_type": "markdown",
      "source": [
        "## Notes\n",
        "\n",
        "LDA does not seem to work very well with larger number of classes. Comparing with Linear Regression, with fewer classes, LDA seem to be better, however, when I increase the number of classes, my implementation shows a significant decrease in performance.\n"
      ]
    },
    {
      "metadata": {
        "id": "VKQ1yrfZtrCR",
        "colab_type": "text"
      },
      "cell_type": "markdown",
      "source": [
        ""
      ]
    },
    {
      "metadata": {
        "id": "PPYkQQAJl9u1",
        "colab_type": "code",
        "colab": {}
      },
      "cell_type": "code",
      "source": [
        "def func(x):\n",
        "  print(x)\n",
        "  return x"
      ],
      "execution_count": 0,
      "outputs": []
    },
    {
      "metadata": {
        "id": "pFxa6PeVS92d",
        "colab_type": "code",
        "outputId": "35fbc7ad-a056-457e-fdfe-a9ad821d1444",
        "colab": {
          "base_uri": "https://localhost:8080/",
          "height": 170
        }
      },
      "cell_type": "code",
      "source": [
        "b = np.array([[8,1,7], [4,3,9], [5,2,6]])\n",
        "print(b)\n",
        "np.apply_along_axis(func, 1, b)"
      ],
      "execution_count": 0,
      "outputs": [
        {
          "output_type": "stream",
          "text": [
            "[[8 1 7]\n",
            " [4 3 9]\n",
            " [5 2 6]]\n",
            "[8 1 7]\n",
            "[4 3 9]\n",
            "[5 2 6]\n"
          ],
          "name": "stdout"
        },
        {
          "output_type": "execute_result",
          "data": {
            "text/plain": [
              "array([[8, 1, 7],\n",
              "       [4, 3, 9],\n",
              "       [5, 2, 6]])"
            ]
          },
          "metadata": {
            "tags": []
          },
          "execution_count": 45
        }
      ]
    },
    {
      "metadata": {
        "id": "afftdb7gPG-s",
        "colab_type": "text"
      },
      "cell_type": "markdown",
      "source": [
        "## Fishers Linear Discriminant - Intuitio"
      ]
    },
    {
      "metadata": {
        "id": "WDbTLhFYPNXQ",
        "colab_type": "code",
        "outputId": "5bbdc119-c840-416c-c8a5-55706f3c5740",
        "colab": {
          "base_uri": "https://localhost:8080/",
          "height": 51
        }
      },
      "cell_type": "code",
      "source": [
        "Ax = np.random.uniform(low=-1.8,high=4.0,size=[50,1])\n",
        "Ay = np.random.uniform(low=2,high=4.1,size=[50,1])\n",
        "classA = np.column_stack((Ax,Ay))\n",
        "\n",
        "Bx = np.random.uniform(low=1.5,high=7.0,size=[50,1])\n",
        "By = np.random.uniform(low=0.1,high=2.1,size=[50,1])\n",
        "classB = np.column_stack((Bx,By))\n",
        "\n",
        "labelA = np.zeros((classA.shape[0]),dtype=np.int8)\n",
        "labelB = np.ones((classB.shape[0]),dtype=np.int8)\n",
        "targets = np.append(labelA,labelB,axis=0)\n",
        "\n",
        "data = np.append(classA,classB,axis=0)\n",
        "data_dict = {0: classA, 1:classB}\n",
        "\n",
        "print(data.shape)\n",
        "print(targets.shape)"
      ],
      "execution_count": 0,
      "outputs": [
        {
          "output_type": "stream",
          "text": [
            "(100, 2)\n",
            "(100,)\n"
          ],
          "name": "stdout"
        }
      ]
    },
    {
      "metadata": {
        "id": "kqD3uHLeZA_A",
        "colab_type": "code",
        "outputId": "8c3bd4ee-582f-42ad-a2f9-13be794b1c45",
        "colab": {
          "base_uri": "https://localhost:8080/",
          "height": 51
        }
      },
      "cell_type": "code",
      "source": [
        "Ax = np.random.normal(1.2, 1.0, 50)\n",
        "Ay = np.random.normal(2.9, 0.3, 50)\n",
        "classA = np.column_stack((Ax,Ay))\n",
        "\n",
        "Bx = np.random.normal(3.8, 1.0, 50)\n",
        "By = np.random.normal(1.6, 0.3, 50)\n",
        "classB = np.column_stack((Bx,By))\n",
        "\n",
        "labelA = np.zeros((classA.shape[0]),dtype=np.int8)\n",
        "labelB = np.ones((classB.shape[0]),dtype=np.int8)\n",
        "targets = np.append(labelA,labelB,axis=0)\n",
        "\n",
        "data = np.append(classA,classB,axis=0)\n",
        "data_dict = {0: classA, 1:classB}\n",
        "\n",
        "print(data.shape)\n",
        "print(targets.shape)"
      ],
      "execution_count": 0,
      "outputs": [
        {
          "output_type": "stream",
          "text": [
            "(100, 2)\n",
            "(100,)\n"
          ],
          "name": "stdout"
        }
      ]
    },
    {
      "metadata": {
        "id": "IvWSUKRQPjSH",
        "colab_type": "code",
        "outputId": "b1b85996-e800-4032-a631-34fdec352846",
        "colab": {
          "base_uri": "https://localhost:8080/",
          "height": 499
        }
      },
      "cell_type": "code",
      "source": [
        "plt.figure(figsize=(10,8))\n",
        "colors=['red','blue']\n",
        "for point,pred in zip(data,targets):\n",
        "  plt.scatter(point[0],point[1],color=colors[pred])\n",
        "plt.xlabel(\"$x_1$\")\n",
        "plt.ylabel(\"$x_2$\")\n",
        "plt.show()"
      ],
      "execution_count": 0,
      "outputs": [
        {
          "output_type": "display_data",
          "data": {
            "image/png": "[encoded data removed]",
            "text/plain": [
              "<matplotlib.figure.Figure at 0x7f3b953b0e10>"
            ]
          },
          "metadata": {
            "tags": []
          }
        }
      ]
    },
    {
      "metadata": {
        "id": "I22bWV12ZUBF",
        "colab_type": "code",
        "colab": {}
      },
      "cell_type": "code",
      "source": [
        ""
      ],
      "execution_count": 0,
      "outputs": []
    },
    {
      "metadata": {
        "id": "CpYJyFgRSJdD",
        "colab_type": "code",
        "outputId": "7a730c03-f0e8-474a-c665-bbd57667c7cc",
        "colab": {
          "base_uri": "https://localhost:8080/",
          "height": 34
        }
      },
      "cell_type": "code",
      "source": [
        "# compute the mean vector for each of the 2 classes\n",
        "# compute the mean accros the Bash size dimension\n",
        "m1 = np.mean(data_dict[0],axis=0)\n",
        "m2 = np.mean(data_dict[1],axis=0)\n",
        "print(m1,m2)"
      ],
      "execution_count": 0,
      "outputs": [
        {
          "output_type": "stream",
          "text": [
            "[1.11780067 2.88211936] [3.727873  1.6029751]\n"
          ],
          "name": "stdout"
        }
      ]
    },
    {
      "metadata": {
        "id": "q0yNyaAXSJmW",
        "colab_type": "code",
        "outputId": "fcb4d4e8-b132-4c2e-c8ff-97483c86c5c5",
        "colab": {
          "base_uri": "https://localhost:8080/",
          "height": 499
        }
      },
      "cell_type": "code",
      "source": [
        "fig, ax = plt.subplots(figsize=(10,8))\n",
        "\n",
        "colors=['red','blue']\n",
        "for point,pred in zip(data,targets):\n",
        "  ax.scatter(point[0],point[1],color=colors[pred], alpha=0.4)\n",
        "\n",
        "line = mlines.Line2D([m1[0],m2[0]], [m1[1],m2[1]], color='green')\n",
        "ax.add_line(line)\n",
        "\n",
        "# plot the mean point of each class\n",
        "ax.scatter(m1[0],m1[1],color='magenta',s=100,marker=\"X\")\n",
        "ax.scatter(m2[0],m2[1],color='orange',s=100,marker=\"X\")\n",
        "\n",
        "plt.xlabel(\"$x_1$\")\n",
        "plt.ylabel(\"$x_2$\")\n",
        "plt.show()"
      ],
      "execution_count": 0,
      "outputs": [
        {
          "output_type": "display_data",
          "data": {
            "image/png": "[encoded data removed]",
            "text/plain": [
              "<matplotlib.figure.Figure at 0x7f3b953b0d30>"
            ]
          },
          "metadata": {
            "tags": []
          }
        }
      ]
    },
    {
      "metadata": {
        "id": "dOmpm-JJSJwW",
        "colab_type": "code",
        "outputId": "f247d8a5-9b2b-4aee-818c-cc8ddabe9f67",
        "colab": {
          "base_uri": "https://localhost:8080/",
          "height": 85
        }
      },
      "cell_type": "code",
      "source": [
        "# find the line that joins to 2 class means\n",
        "print(m2,m1)\n",
        "# To find the line that join the 2 class means, we can use the slope-intercept form to find the equation of the line from 2 points. \n",
        "sub = np.subtract(m2,m1)\n",
        "print(sub)\n",
        "m = sub[1]/sub[0]\n",
        "print(\"Slope:,\",m)\n",
        "b = -(m * m1[0]) + m1[1]\n",
        "print(\"intercept:\",b)"
      ],
      "execution_count": 0,
      "outputs": [
        {
          "output_type": "stream",
          "text": [
            "[3.727873  1.6029751] [1.11780067 2.88211936]\n",
            "[ 2.61007233 -1.27914426]\n",
            "Slope:, -0.49008000338642127\n",
            "intercept: 3.4299311131214014\n"
          ],
          "name": "stdout"
        }
      ]
    },
    {
      "metadata": {
        "id": "jAW2Scezpu9y",
        "colab_type": "code",
        "outputId": "e0e5ebcc-1d47-4b69-e6fc-bedff6375e94",
        "colab": {
          "base_uri": "https://localhost:8080/",
          "height": 34
        }
      },
      "cell_type": "code",
      "source": [
        "W =np.subtract(m2,m1)\n",
        "print(\"Weights:\",W)"
      ],
      "execution_count": 0,
      "outputs": [
        {
          "output_type": "stream",
          "text": [
            "Weights: [ 2.61007233 -1.27914426]\n"
          ],
          "name": "stdout"
        }
      ]
    },
    {
      "metadata": {
        "id": "c386I9xCYCRd",
        "colab_type": "code",
        "outputId": "5c500ee0-5bde-42fe-87e3-e8812dc1aed1",
        "colab": {
          "base_uri": "https://localhost:8080/",
          "height": 499
        }
      },
      "cell_type": "code",
      "source": [
        "fig, ax = plt.subplots(figsize=(10,8))\n",
        "\n",
        "colors=['red','blue']\n",
        "for point,pred in zip(data,targets):\n",
        "  ax.scatter(point[0],point[1],color=colors[pred], alpha=0.15)\n",
        "  proj = np.dot(point,W)/np.dot(W,W) * W\n",
        "  #print(proj.shape)\n",
        "  ax.scatter(proj[0],proj[1],color=colors[pred])\n",
        "  \n",
        "  #y = np.dot(point,W)\n",
        "  #ax.scatter(y,y,color=colors[pred])\n",
        "  \n",
        "# plot the mean point of each class\n",
        "ax.scatter(m1[0],m1[1],color='magenta',s=100,marker=\"X\")\n",
        "ax.scatter(m2[0],m2[1],color='orange',s=100,marker=\"X\")\n",
        "\n",
        "line = mlines.Line2D([m1[0],m2[0]], [m1[1],m2[1]], color='green')\n",
        "#line = mlines.Line2D([0,W[0]], [0,W[1]], color='red')\n",
        "\n",
        "#transform = ax.transAxes\n",
        "#line.set_transform(transform)\n",
        "ax.add_line(line)\n",
        "plt.xlabel(\"$x_1$\")\n",
        "plt.ylabel(\"$x_2$\")\n",
        "plt.show()"
      ],
      "execution_count": 0,
      "outputs": [
        {
          "output_type": "display_data",
          "data": {
            "image/png": "[encoded data removed]",
            "text/plain": [
              "<matplotlib.figure.Figure at 0x7f3b95867668>"
            ]
          },
          "metadata": {
            "tags": []
          }
        }
      ]
    },
    {
      "metadata": {
        "id": "w_VwYmFJq2Up",
        "colab_type": "code",
        "outputId": "61e07404-c525-469f-a033-0701bbbe632f",
        "colab": {
          "base_uri": "https://localhost:8080/",
          "height": 418
        }
      },
      "cell_type": "code",
      "source": [
        "import numpy as np\n",
        "import matplotlib.pyplot as plt\n",
        "\n",
        "yA = np.squeeze(np.dot(data_dict[0],np.expand_dims(W,1)))\n",
        "yB = np.squeeze(np.dot(data_dict[1],np.expand_dims(W,1)))\n",
        "\n",
        "print(yA.shape)\n",
        "\n",
        "np.random.seed(0)\n",
        "\n",
        "n_bins = 15\n",
        "x = np.random.randn(1000, 2)\n",
        "\n",
        "fig, axes = plt.subplots(nrows=1, ncols=1)\n",
        "\n",
        "colors = ['red', 'blue']\n",
        "\n",
        "\n",
        "axes.hist([yA,yB], n_bins, normed=1, color=colors, histtype='bar', stacked=True)\n",
        "axes.set_title('Data points histogram')\n",
        "\n",
        "\n",
        "fig.tight_layout()\n",
        "plt.show()"
      ],
      "execution_count": 0,
      "outputs": [
        {
          "output_type": "stream",
          "text": [
            "(50,)\n"
          ],
          "name": "stdout"
        },
        {
          "output_type": "display_data",
          "data": {
            "image/png": "[encoded data removed]",
            "text/plain": [
              "<matplotlib.figure.Figure at 0x7f3b95e46ef0>"
            ]
          },
          "metadata": {
            "tags": []
          }
        }
      ]
    },
    {
      "metadata": {
        "id": "wrIV7Tc2YUbM",
        "colab_type": "code",
        "outputId": "917bddf7-a206-4903-b7be-47a4f735588f",
        "colab": {
          "base_uri": "https://localhost:8080/",
          "height": 85
        }
      },
      "cell_type": "code",
      "source": [
        "# total within-class covariance matrix, given by (4.27)\n",
        "print(\"Input vector shape:\",data[0].shape)\n",
        "print(\"m1.shape\",m1.shape)\n",
        "\n",
        "tmp = np.subtract(data_dict[0], m1)\n",
        "print(\"tmp.shape\",tmp.shape)\n",
        "a = np.dot(tmp.T, tmp)\n",
        "\n",
        "tmp = np.subtract(data_dict[1], m2)\n",
        "b = np.dot(tmp.T, tmp)\n",
        "SW = np.add(a,b)\n",
        "\n",
        "print(\"Output:\",SW.shape)"
      ],
      "execution_count": 0,
      "outputs": [
        {
          "output_type": "stream",
          "text": [
            "Input vector shape: (2,)\n",
            "m1.shape (2,)\n",
            "tmp.shape (50, 2)\n",
            "Output: (2, 2)\n"
          ],
          "name": "stdout"
        }
      ]
    },
    {
      "metadata": {
        "id": "oSP9qUJFjjns",
        "colab_type": "code",
        "outputId": "9baa6396-68db-491d-c009-1c6737cafaa2",
        "colab": {
          "base_uri": "https://localhost:8080/",
          "height": 68
        }
      },
      "cell_type": "code",
      "source": [
        "inv_SW = pinv(SW)\n",
        "print(inv_SW.shape)\n",
        "s = m2 - m1\n",
        "W = np.squeeze(np.dot(inv_SW, np.expand_dims(s,1))) # \n",
        "print(W.shape)\n",
        "print(W)"
      ],
      "execution_count": 0,
      "outputs": [
        {
          "output_type": "stream",
          "text": [
            "(2, 2)\n",
            "(2,)\n",
            "[ 0.02283786 -0.13944296]\n"
          ],
          "name": "stdout"
        }
      ]
    },
    {
      "metadata": {
        "id": "pAVUNcOtKPhU",
        "colab_type": "code",
        "outputId": "9bb20709-ad81-474d-9317-e1a3222c4121",
        "colab": {
          "base_uri": "https://localhost:8080/",
          "height": 34
        }
      },
      "cell_type": "code",
      "source": [
        "y = np.dot(data,W)\n",
        "print(y.shape[0])"
      ],
      "execution_count": 0,
      "outputs": [
        {
          "output_type": "stream",
          "text": [
            "100\n"
          ],
          "name": "stdout"
        }
      ]
    },
    {
      "metadata": {
        "id": "0eqpPeWRqp9x",
        "colab_type": "code",
        "outputId": "4aec921d-fc6a-455c-bbcf-e22a6ba88916",
        "colab": {
          "base_uri": "https://localhost:8080/",
          "height": 444
        }
      },
      "cell_type": "code",
      "source": [
        "fig, ax = plt.subplots(figsize=(10,7))\n",
        "\n",
        "colors=['red','blue']\n",
        "for point,pred in zip(data,targets):\n",
        "  ax.scatter(point[0],point[1],color=colors[pred],alpha=0.15)\n",
        "  proj = np.dot(point,W)/np.dot(W,W) * W\n",
        "  y = np.dot(point,W)\n",
        "\n",
        "  #print(proj.shape)\n",
        "  ax.scatter(proj[0],proj[1],color=colors[pred])\n",
        "  #ax.scatter(y,y,color=colors[pred])\n",
        "\n",
        "# plot the mean point of each class\n",
        "ax.scatter(m1[0],m1[1],color='magenta',s=100,marker=\"X\")\n",
        "ax.scatter(m2[0],m2[1],color='orange',s=100,marker=\"X\")\n",
        "\n",
        "#line = mlines.Line2D([0,W[0]], [0,W[1]], color='red')\n",
        "#transform = ax.transAxes\n",
        "#line.set_transform(transform)\n",
        "#ax.add_line(line)\n",
        "\n",
        "plt.xlabel(\"$x_1$\")\n",
        "plt.ylabel(\"$x_2$\")\n",
        "plt.show()"
      ],
      "execution_count": 0,
      "outputs": [
        {
          "output_type": "display_data",
          "data": {
            "image/png": "[encoded data removed]",
            "text/plain": [
              "<matplotlib.figure.Figure at 0x7f3b95ea39b0>"
            ]
          },
          "metadata": {
            "tags": []
          }
        }
      ]
    },
    {
      "metadata": {
        "id": "8mt2B52WSOdD",
        "colab_type": "code",
        "outputId": "97a7cdf8-4af6-4ac2-beb8-d4b5d4dc72ec",
        "colab": {
          "base_uri": "https://localhost:8080/",
          "height": 34
        }
      },
      "cell_type": "code",
      "source": [
        "np.column_stack((y,y))"
      ],
      "execution_count": 0,
      "outputs": [
        {
          "output_type": "execute_result",
          "data": {
            "text/plain": [
              "array([[-0.12616009, -0.12616009]])"
            ]
          },
          "metadata": {
            "tags": []
          },
          "execution_count": 81
        }
      ]
    },
    {
      "metadata": {
        "id": "WV8FbLoWU9sM",
        "colab_type": "code",
        "outputId": "3e7133d2-473c-4d8b-ee1f-72c0396f66b9",
        "colab": {
          "base_uri": "https://localhost:8080/",
          "height": 418
        }
      },
      "cell_type": "code",
      "source": [
        "yA = np.squeeze(np.dot(data_dict[0],np.expand_dims(W,1)))\n",
        "yB = np.squeeze(np.dot(data_dict[1],np.expand_dims(W,1)))\n",
        "\n",
        "print(yA.shape)\n",
        "\n",
        "np.random.seed(0)\n",
        "\n",
        "n_bins = 15\n",
        "\n",
        "fig, axes = plt.subplots(nrows=1, ncols=1)\n",
        "\n",
        "colors = ['red', 'blue']\n",
        "axes.hist([yA,yB], n_bins, normed=1, color=colors, histtype='bar', stacked=True)\n",
        "axes.set_title('Data points histogram')\n",
        "\n",
        "\n",
        "fig.tight_layout()\n",
        "plt.show()"
      ],
      "execution_count": 0,
      "outputs": [
        {
          "output_type": "stream",
          "text": [
            "(50,)\n"
          ],
          "name": "stdout"
        },
        {
          "output_type": "display_data",
          "data": {
            "image/png": "[encoded data removed]",
            "text/plain": [
              "<matplotlib.figure.Figure at 0x7f3b962a3048>"
            ]
          },
          "metadata": {
            "tags": []
          }
        }
      ]
    },
    {
      "metadata": {
        "id": "uqR5MIuSkxsN",
        "colab_type": "text"
      },
      "cell_type": "markdown",
      "source": [
        "## Polinomial Regression"
      ]
    },
    {
      "metadata": {
        "id": "Xsf2kGBNqNBZ",
        "colab_type": "code",
        "colab": {}
      },
      "cell_type": "code",
      "source": [
        "from sklearn.datasets import make_circles\n",
        "from sklearn.model_selection import train_test_split\n",
        "from sklearn.linear_model import LogisticRegression\n"
      ],
      "execution_count": 0,
      "outputs": []
    },
    {
      "metadata": {
        "id": "Lp0svL_tnM2g",
        "colab_type": "code",
        "outputId": "685fccce-f706-4ba0-d561-cd3f27569051",
        "colab": {
          "base_uri": "https://localhost:8080/",
          "height": 531
        }
      },
      "cell_type": "code",
      "source": [
        "np.random.seed(0)\n",
        "\n",
        "X, y = make_circles(n_samples=500, factor=.3, noise=.05)\n",
        "\n",
        "# Plot results\n",
        "plt.figure(figsize=(8,8))\n",
        "plt.subplot(1, 1, 1, aspect='equal')\n",
        "plt.title(\"Original space\")\n",
        "reds = y == 0\n",
        "blues = y == 1\n",
        "\n",
        "plt.scatter(X[reds, 0], X[reds, 1], c=\"blue\",s=20, edgecolor='k')\n",
        "plt.scatter(X[blues, 0], X[blues, 1], c=\"red\", s=20, edgecolor='k')\n",
        "plt.xlabel(\"$x_1$\")\n",
        "plt.ylabel(\"$x_2$\")"
      ],
      "execution_count": 0,
      "outputs": [
        {
          "output_type": "execute_result",
          "data": {
            "text/plain": [
              "Text(0,0.5,'$x_2$')"
            ]
          },
          "metadata": {
            "tags": []
          },
          "execution_count": 103
        },
        {
          "output_type": "display_data",
          "data": {
            "image/png": "[encoded data removed]",
            "text/plain": [
              "<matplotlib.figure.Figure at 0x7f3b967b7be0>"
            ]
          },
          "metadata": {
            "tags": []
          }
        }
      ]
    },
    {
      "metadata": {
        "id": "CvM-FnYglib-",
        "colab_type": "code",
        "outputId": "8eca1485-37a7-4e11-8490-d5ae5f4da66b",
        "colab": {
          "base_uri": "https://localhost:8080/",
          "height": 68
        }
      },
      "cell_type": "code",
      "source": [
        "X_train, X_test, y_train, y_test = train_test_split(X, y, test_size=0.20, random_state=42)\n",
        "clf = LogisticRegression().fit(X_train, y_train)\n",
        "pred = clf.predict(X_test)\n",
        "print(\"Test acc:\", np.sum(pred==y_test))"
      ],
      "execution_count": 0,
      "outputs": [
        {
          "output_type": "stream",
          "text": [
            "Test acc: 45\n"
          ],
          "name": "stdout"
        },
        {
          "output_type": "stream",
          "text": [
            "/usr/local/lib/python3.6/dist-packages/sklearn/linear_model/logistic.py:433: FutureWarning: Default solver will be changed to 'lbfgs' in 0.22. Specify a solver to silence this warning.\n",
            "  FutureWarning)\n"
          ],
          "name": "stderr"
        }
      ]
    },
    {
      "metadata": {
        "id": "gAM3QQSwrD2d",
        "colab_type": "code",
        "outputId": "50830e4f-6756-485c-f621-87dadd76ada3",
        "colab": {
          "base_uri": "https://localhost:8080/",
          "height": 504
        }
      },
      "cell_type": "code",
      "source": [
        "# Plot the decision boundary. For that, we will assign a color to each\n",
        "# point in the mesh [x_min, x_max]x[y_min, y_max].\n",
        "x_min, x_max = X[:, 0].min() - .5, X[:, 0].max() + .5\n",
        "y_min, y_max = X[:, 1].min() - .5, X[:, 1].max() + .5\n",
        "h = .01  # step size in the mesh\n",
        "xx, yy = np.meshgrid(np.arange(x_min, x_max, h), np.arange(y_min, y_max, h))\n",
        "Z = clf.predict(np.c_[xx.ravel(), yy.ravel()])\n",
        "\n",
        "\n",
        "# Put the result into a color plot\n",
        "cmap = plt.get_cmap('bwr')\n",
        "Z = Z.reshape(xx.shape)\n",
        "plt.figure(1, figsize=(8, 8))\n",
        "#plt.pcolormesh(xx, yy, Z, cmap=cmap, alpha=0.1)\n",
        "\n",
        "# Plot also the training points\n",
        "\n",
        "plt.scatter(X[reds, 0], X[reds, 1], c=\"blue\",s=20, edgecolor='k')\n",
        "plt.scatter(X[blues, 0], X[blues, 1], c=\"red\", s=20, edgecolor='k')\n",
        "plt.title(\"Decision boundary\")\n",
        "plt.xlabel(\"$x_1^2$\")\n",
        "plt.ylabel(\"$x_2^2$\")\n",
        "\n",
        "plt.xlim(xx.min(), xx.max())\n",
        "plt.ylim(yy.min(), yy.max())\n",
        "plt.xticks(())\n",
        "plt.yticks(())\n",
        "\n",
        "plt.show()"
      ],
      "execution_count": 0,
      "outputs": [
        {
          "output_type": "display_data",
          "data": {
            "image/png": "[encoded data removed]",
            "text/plain": [
              "<matplotlib.figure.Figure at 0x7f3b96307080>"
            ]
          },
          "metadata": {
            "tags": []
          }
        }
      ]
    },
    {
      "metadata": {
        "id": "_ZaTM_djsIgP",
        "colab_type": "code",
        "colab": {}
      },
      "cell_type": "code",
      "source": [
        "# transform the data\n",
        "X_train = X_train**2\n",
        "X_test = X_test**2"
      ],
      "execution_count": 0,
      "outputs": []
    },
    {
      "metadata": {
        "id": "x5v9kEUrh5wY",
        "colab_type": "code",
        "colab": {}
      },
      "cell_type": "code",
      "source": [
        ""
      ],
      "execution_count": 0,
      "outputs": []
    },
    {
      "metadata": {
        "id": "P1zMlD35rcir",
        "colab_type": "code",
        "outputId": "e968b4b0-db47-4a93-988d-08944c5a6717",
        "colab": {
          "base_uri": "https://localhost:8080/",
          "height": 68
        }
      },
      "cell_type": "code",
      "source": [
        "#X_train, X_test, y_train, y_test = train_test_split(X, y, test_size=0.20, random_state=42)\n",
        "clf = LogisticRegression().fit(X_train, y_train)\n",
        "pred = clf.predict(X_test)\n",
        "print(\"Test acc:\", np.sum(pred==y_test))"
      ],
      "execution_count": 0,
      "outputs": [
        {
          "output_type": "stream",
          "text": [
            "Test acc: 100\n"
          ],
          "name": "stdout"
        },
        {
          "output_type": "stream",
          "text": [
            "/usr/local/lib/python3.6/dist-packages/sklearn/linear_model/logistic.py:433: FutureWarning: Default solver will be changed to 'lbfgs' in 0.22. Specify a solver to silence this warning.\n",
            "  FutureWarning)\n"
          ],
          "name": "stderr"
        }
      ]
    },
    {
      "metadata": {
        "id": "adqN6w5Ir9Q7",
        "colab_type": "code",
        "outputId": "5af4419e-1bcd-48ee-85ad-839966c6c17a",
        "colab": {
          "base_uri": "https://localhost:8080/",
          "height": 504
        }
      },
      "cell_type": "code",
      "source": [
        "# Plot the decision boundary. For that, we will assign a color to each\n",
        "# point in the mesh [x_min, x_max]x[y_min, y_max].\n",
        "x_min, x_max = X[:, 0].min() - .5, X[:, 0].max() + .5\n",
        "y_min, y_max = X[:, 1].min() - .5, X[:, 1].max() + .5\n",
        "h = .02  # step size in the mesh\n",
        "xx, yy = np.meshgrid(np.arange(x_min, x_max, h), np.arange(y_min, y_max, h))\n",
        "Z = clf.predict(np.c_[xx.ravel(), yy.ravel()])\n",
        "\n",
        "# Put the result into a color plot\n",
        "Z = Z.reshape(xx.shape)\n",
        "plt.figure(1, figsize=(8, 8))\n",
        "# plt.pcolormesh(xx, yy, Z, cmap=plt.cm.Paired)\n",
        "\n",
        "# Plot also the training points\n",
        "plt.scatter(X[reds, 0], X[reds, 1], c=\"blue\",s=20, edgecolor='k')\n",
        "plt.scatter(X[blues, 0], X[blues, 1], c=\"red\", s=20, edgecolor='k')\n",
        "plt.title(\"Decision boundary\")\n",
        "plt.xlabel(\"$x_1^2$\")\n",
        "plt.ylabel(\"$x_2^2$\")\n",
        "\n",
        "plt.xlim(xx.min(), xx.max())\n",
        "plt.ylim(yy.min(), yy.max())\n",
        "plt.xticks(())\n",
        "plt.yticks(())\n",
        "\n",
        "plt.show()"
      ],
      "execution_count": 0,
      "outputs": [
        {
          "output_type": "display_data",
          "data": {
            "image/png": "[encoded data removed]",
            "text/plain": [
              "<matplotlib.figure.Figure at 0x7f3b9685ae10>"
            ]
          },
          "metadata": {
            "tags": []
          }
        }
      ]
    },
    {
      "metadata": {
        "id": "zOGKn4B4sCH7",
        "colab_type": "code",
        "colab": {}
      },
      "cell_type": "code",
      "source": [
        ""
      ],
      "execution_count": 0,
      "outputs": []
    }
  ]
}